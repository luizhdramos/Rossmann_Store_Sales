{
 "cells": [
  {
   "cell_type": "markdown",
   "id": "d532e132",
   "metadata": {},
   "source": [
    "# 0.0. IMPORTS"
   ]
  },
  {
   "cell_type": "code",
   "execution_count": 5,
   "id": "8bc15b2d",
   "metadata": {
    "ExecuteTime": {
     "end_time": "2022-09-25T00:07:04.859468Z",
     "start_time": "2022-09-25T00:07:04.852779Z"
    }
   },
   "outputs": [],
   "source": [
    "import math\n",
    "import os\n",
    "import inflection\n",
    "import pandas as pd"
   ]
  },
  {
   "cell_type": "markdown",
   "id": "ca8ba5ff",
   "metadata": {},
   "source": [
    "## 0.1. Helper Functions"
   ]
  },
  {
   "cell_type": "markdown",
   "id": "d9ef0bd4",
   "metadata": {},
   "source": [
    "## 0.2. Loading data"
   ]
  },
  {
   "cell_type": "code",
   "execution_count": 7,
   "id": "3f25a3b1",
   "metadata": {
    "ExecuteTime": {
     "end_time": "2022-09-25T00:07:11.677943Z",
     "start_time": "2022-09-25T00:07:11.188507Z"
    },
    "cell_style": "center"
   },
   "outputs": [],
   "source": [
    "os.chdir('/Users/luizramos/Repos/DsEmProducao')\n",
    "df_sales_raw = pd.read_csv('data/train.csv', low_memory=False)\n",
    "df_store_raw = pd.read_csv('data/store.csv', low_memory=False)\n",
    "\n",
    "#merge\n",
    "\n",
    "df_raw = pd.merge(df_sales_raw, df_store_raw, how='left', on='Store')"
   ]
  },
  {
   "cell_type": "markdown",
   "id": "759e41e0",
   "metadata": {},
   "source": [
    "# 1.0 DESCRICAO DOS DADOS"
   ]
  },
  {
   "cell_type": "markdown",
   "id": "e973858a",
   "metadata": {},
   "source": [
    "## 1.1.a Copying Original DF"
   ]
  },
  {
   "cell_type": "code",
   "execution_count": 8,
   "id": "0477b87d",
   "metadata": {
    "ExecuteTime": {
     "end_time": "2022-09-25T00:07:14.790205Z",
     "start_time": "2022-09-25T00:07:14.605823Z"
    },
    "cell_style": "center"
   },
   "outputs": [],
   "source": [
    "df1 = df_raw.copy()"
   ]
  },
  {
   "cell_type": "markdown",
   "id": "6a2cfea3",
   "metadata": {
    "heading_collapsed": true
   },
   "source": [
    "## 1.1.b Rename Columns"
   ]
  },
  {
   "cell_type": "code",
   "execution_count": 9,
   "id": "85100ccd",
   "metadata": {
    "ExecuteTime": {
     "end_time": "2022-09-25T00:07:16.438534Z",
     "start_time": "2022-09-25T00:07:16.417187Z"
    },
    "hidden": true
   },
   "outputs": [
    {
     "data": {
      "text/plain": [
       "Index(['store', 'day_of_week', 'date', 'sales', 'customers', 'open', 'promo',\n",
       "       'state_holiday', 'school_holiday', 'store_type', 'assortment',\n",
       "       'competition_distance', 'competition_open_since_month',\n",
       "       'competition_open_since_year', 'promo2', 'promo2_since_week',\n",
       "       'promo2_since_year', 'promo_interval'],\n",
       "      dtype='object')"
      ]
     },
     "execution_count": 9,
     "metadata": {},
     "output_type": "execute_result"
    }
   ],
   "source": [
    "#rename Colunms\n",
    "cols_old = ['Store', 'DayOfWeek', 'Date', 'Sales', 'Customers', 'Open', 'Promo', 'StateHoliday',\n",
    "            'SchoolHoliday', 'StoreType', 'Assortment', 'CompetitionDistance', 'CompetitionOpenSinceMonth',\n",
    "            'CompetitionOpenSinceYear', 'Promo2', 'Promo2SinceWeek', 'Promo2SinceYear', 'PromoInterval']\n",
    "\n",
    "snakecase = lambda x: inflection.underscore( x )\n",
    "cols_new = list(map(snakecase, cols_old))\n",
    "df1.columns = cols_new\n",
    "df1.columns"
   ]
  },
  {
   "cell_type": "markdown",
   "id": "a6332701",
   "metadata": {
    "heading_collapsed": true
   },
   "source": [
    "## 1.2. Data Dimensions"
   ]
  },
  {
   "cell_type": "code",
   "execution_count": 16,
   "id": "7fd7abe8",
   "metadata": {
    "ExecuteTime": {
     "end_time": "2022-09-25T00:11:26.161760Z",
     "start_time": "2022-09-25T00:11:26.150799Z"
    },
    "cell_style": "center",
    "hidden": true
   },
   "outputs": [
    {
     "name": "stdout",
     "output_type": "stream",
     "text": [
      "Number of Rows: 1017209\n",
      "Number of Columns: 18\n"
     ]
    }
   ],
   "source": [
    "print('Number of Rows: {}'.format(df1.shape[0]))\n",
    "print('Number of Columns: {}'.format(df1.shape[1]))\n"
   ]
  },
  {
   "cell_type": "markdown",
   "id": "f3274aab",
   "metadata": {
    "heading_collapsed": true
   },
   "source": [
    "## 1.3. Data Types"
   ]
  },
  {
   "cell_type": "code",
   "execution_count": 11,
   "id": "fbb54ea6",
   "metadata": {
    "ExecuteTime": {
     "end_time": "2022-09-25T00:07:22.083448Z",
     "start_time": "2022-09-25T00:07:21.963579Z"
    },
    "hidden": true
   },
   "outputs": [
    {
     "data": {
      "text/plain": [
       "store                                    int64\n",
       "day_of_week                              int64\n",
       "date                            datetime64[ns]\n",
       "sales                                    int64\n",
       "customers                                int64\n",
       "open                                     int64\n",
       "promo                                    int64\n",
       "state_holiday                           object\n",
       "school_holiday                           int64\n",
       "store_type                              object\n",
       "assortment                              object\n",
       "competition_distance                   float64\n",
       "competition_open_since_month           float64\n",
       "competition_open_since_year            float64\n",
       "promo2                                   int64\n",
       "promo2_since_week                      float64\n",
       "promo2_since_year                      float64\n",
       "promo_interval                          object\n",
       "dtype: object"
      ]
     },
     "execution_count": 11,
     "metadata": {},
     "output_type": "execute_result"
    }
   ],
   "source": [
    "df1['date'] = pd.to_datetime(df1['date'])\n",
    "df1.dtypes "
   ]
  },
  {
   "cell_type": "markdown",
   "id": "263a388c",
   "metadata": {
    "heading_collapsed": true
   },
   "source": [
    "## 1.4. Check NA"
   ]
  },
  {
   "cell_type": "code",
   "execution_count": 17,
   "id": "ce63041b",
   "metadata": {
    "ExecuteTime": {
     "end_time": "2022-09-25T00:11:39.154360Z",
     "start_time": "2022-09-25T00:11:38.829455Z"
    },
    "hidden": true
   },
   "outputs": [
    {
     "data": {
      "text/plain": [
       "store                                0\n",
       "day_of_week                          0\n",
       "date                                 0\n",
       "sales                                0\n",
       "customers                            0\n",
       "open                                 0\n",
       "promo                                0\n",
       "state_holiday                        0\n",
       "school_holiday                       0\n",
       "store_type                           0\n",
       "assortment                           0\n",
       "competition_distance                 0\n",
       "competition_open_since_month    323348\n",
       "competition_open_since_year     323348\n",
       "promo2                               0\n",
       "promo2_since_week               508031\n",
       "promo2_since_year               508031\n",
       "promo_interval                  508031\n",
       "dtype: int64"
      ]
     },
     "execution_count": 17,
     "metadata": {},
     "output_type": "execute_result"
    }
   ],
   "source": [
    "df1.isna().sum()"
   ]
  },
  {
   "cell_type": "markdown",
   "id": "a53c4bb6",
   "metadata": {},
   "source": [
    "## 1.5. Fillout NA"
   ]
  },
  {
   "cell_type": "code",
   "execution_count": 13,
   "id": "9048e5ff",
   "metadata": {
    "ExecuteTime": {
     "end_time": "2022-09-25T00:07:29.564508Z",
     "start_time": "2022-09-25T00:07:29.546282Z"
    }
   },
   "outputs": [
    {
     "data": {
      "text/plain": [
       "75860.0"
      ]
     },
     "execution_count": 13,
     "metadata": {},
     "output_type": "execute_result"
    }
   ],
   "source": [
    "df1['competition_distance'].max()"
   ]
  },
  {
   "cell_type": "code",
   "execution_count": 15,
   "id": "c5fc6ce3",
   "metadata": {
    "ExecuteTime": {
     "end_time": "2022-09-25T00:11:16.297372Z",
     "start_time": "2022-09-25T00:11:16.137967Z"
    }
   },
   "outputs": [],
   "source": [
    "# competition_distance\n",
    "df1['competition_distance'] = df1['competition_distance'].apply(lambda x: 200000.0 if math.isnan(x) else x)\n",
    "\n",
    "# competition_open_since_month\n",
    "df1['competition_open_since_month'] = df1['competition_open_since_month'].apply(lambda x: x['date'] if math.isnan(x) else x, axis=1)\n",
    "\n",
    "# competition_open_since_year\n",
    "df1['competition_open_since_month'] = df1['competition_open_since_month'].apply(lambda x: x['date'] if math.isnan(x) else x, axis=1)\n",
    "# promo2                      \n",
    "# promo2_since_week           \n",
    "# promo2_since_year           \n",
    "# promo_interval              "
   ]
  },
  {
   "cell_type": "markdown",
   "id": "ed8c044d",
   "metadata": {},
   "source": [
    "## 1.1."
   ]
  },
  {
   "cell_type": "markdown",
   "id": "24cfe82b",
   "metadata": {},
   "source": [
    "## 1.1."
   ]
  },
  {
   "cell_type": "markdown",
   "id": "3c970dae",
   "metadata": {},
   "source": [
    "## 1.1."
   ]
  },
  {
   "cell_type": "code",
   "execution_count": null,
   "id": "375f22d2",
   "metadata": {},
   "outputs": [],
   "source": []
  },
  {
   "cell_type": "code",
   "execution_count": null,
   "id": "525f1f4d",
   "metadata": {},
   "outputs": [],
   "source": []
  }
 ],
 "metadata": {
  "kernelspec": {
   "display_name": "ds_em_producao",
   "language": "python",
   "name": "ds_em_producao"
  },
  "language_info": {
   "codemirror_mode": {
    "name": "ipython",
    "version": 3
   },
   "file_extension": ".py",
   "mimetype": "text/x-python",
   "name": "python",
   "nbconvert_exporter": "python",
   "pygments_lexer": "ipython3",
   "version": "3.8.13"
  }
 },
 "nbformat": 4,
 "nbformat_minor": 5
}
